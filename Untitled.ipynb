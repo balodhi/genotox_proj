{
 "cells": [
  {
   "cell_type": "code",
   "execution_count": 1,
   "metadata": {},
   "outputs": [],
   "source": [
    "import pandas as pd\n",
    "import numpy as np"
   ]
  },
  {
   "cell_type": "code",
   "execution_count": 2,
   "metadata": {},
   "outputs": [],
   "source": [
    "filename = 'result_jz9h5wcg.csv'"
   ]
  },
  {
   "cell_type": "code",
   "execution_count": 3,
   "metadata": {},
   "outputs": [],
   "source": [
    "data = pd.read_csv(filename, sep=';')"
   ]
  },
  {
   "cell_type": "code",
   "execution_count": 4,
   "metadata": {},
   "outputs": [
    {
     "data": {
      "text/html": [
       "<div>\n",
       "<style scoped>\n",
       "    .dataframe tbody tr th:only-of-type {\n",
       "        vertical-align: middle;\n",
       "    }\n",
       "\n",
       "    .dataframe tbody tr th {\n",
       "        vertical-align: top;\n",
       "    }\n",
       "\n",
       "    .dataframe thead th {\n",
       "        text-align: right;\n",
       "    }\n",
       "</style>\n",
       "<table border=\"1\" class=\"dataframe\">\n",
       "  <thead>\n",
       "    <tr style=\"text-align: right;\">\n",
       "      <th></th>\n",
       "      <th>Substance Name</th>\n",
       "      <th>Name Type</th>\n",
       "      <th>Substance Number</th>\n",
       "      <th>Number type</th>\n",
       "      <th>Member of Category</th>\n",
       "      <th>Substance Link</th>\n",
       "      <th>Participant</th>\n",
       "      <th>Participant Link</th>\n",
       "      <th>Section</th>\n",
       "      <th>Endpoint Link</th>\n",
       "      <th>Values</th>\n",
       "    </tr>\n",
       "  </thead>\n",
       "  <tbody>\n",
       "    <tr>\n",
       "      <th>0</th>\n",
       "      <td>(1,3-benzothiazol-2-ylsulfanyl)(tert-butyl)amine</td>\n",
       "      <td>IUPAC Name</td>\n",
       "      <td>95-31-8</td>\n",
       "      <td>CAS Number</td>\n",
       "      <td>n</td>\n",
       "      <td>https://echa.europa.eu/registration-dossier/-/...</td>\n",
       "      <td>ECHA CHEM</td>\n",
       "      <td>https://echa.europa.eu/information-on-chemical...</td>\n",
       "      <td>Genetic toxicity in vivo</td>\n",
       "      <td>https://echa.europa.eu/registration-dossier/-/...</td>\n",
       "      <td>Test guideline, Guideline: OECD Guideline 474 ...</td>\n",
       "    </tr>\n",
       "    <tr>\n",
       "      <th>1</th>\n",
       "      <td>(1-hydroxy-1-phosphonoethyl)phosphonic acid</td>\n",
       "      <td>IUPAC Name</td>\n",
       "      <td>64-18-6</td>\n",
       "      <td>CAS Number</td>\n",
       "      <td>n</td>\n",
       "      <td>https://echa.europa.eu/registration-dossier/-/...</td>\n",
       "      <td>ECHA CHEM</td>\n",
       "      <td>https://echa.europa.eu/information-on-chemical...</td>\n",
       "      <td>Genetic toxicity in vivo</td>\n",
       "      <td>https://echa.europa.eu/registration-dossier/-/...</td>\n",
       "      <td>Test guideline, Guideline: OECD Guideline 474 ...</td>\n",
       "    </tr>\n",
       "    <tr>\n",
       "      <th>2</th>\n",
       "      <td>(1-hydroxyethylidene)bisphosphonic acid, sodiu...</td>\n",
       "      <td>EC Name</td>\n",
       "      <td>29329-71-3</td>\n",
       "      <td>CAS Number</td>\n",
       "      <td>n</td>\n",
       "      <td>https://echa.europa.eu/registration-dossier/-/...</td>\n",
       "      <td>ECHA CHEM</td>\n",
       "      <td>https://echa.europa.eu/information-on-chemical...</td>\n",
       "      <td>Genetic toxicity in vivo</td>\n",
       "      <td>https://echa.europa.eu/registration-dossier/-/...</td>\n",
       "      <td>Test guideline, Guideline: OECD Guideline 474 ...</td>\n",
       "    </tr>\n",
       "    <tr>\n",
       "      <th>3</th>\n",
       "      <td>(1-methyl-1,2-ethanediyl)bis[oxy(methyl-2,1-et...</td>\n",
       "      <td>EC Name</td>\n",
       "      <td>42978-66-5</td>\n",
       "      <td>CAS Number</td>\n",
       "      <td>n</td>\n",
       "      <td>https://echa.europa.eu/registration-dossier/-/...</td>\n",
       "      <td>ECHA CHEM</td>\n",
       "      <td>https://echa.europa.eu/information-on-chemical...</td>\n",
       "      <td>Genetic toxicity in vivo</td>\n",
       "      <td>https://echa.europa.eu/registration-dossier/-/...</td>\n",
       "      <td>Test guideline, Guideline: OECD Guideline 474 ...</td>\n",
       "    </tr>\n",
       "    <tr>\n",
       "      <th>4</th>\n",
       "      <td>(1-methyl-1,2-ethanediyl)bis[oxy(methyl-2,1-et...</td>\n",
       "      <td>EC Name</td>\n",
       "      <td>42978-66-5</td>\n",
       "      <td>CAS Number</td>\n",
       "      <td>n</td>\n",
       "      <td>https://echa.europa.eu/registration-dossier/-/...</td>\n",
       "      <td>ECHA CHEM</td>\n",
       "      <td>https://echa.europa.eu/information-on-chemical...</td>\n",
       "      <td>Genetic toxicity in vivo</td>\n",
       "      <td>https://echa.europa.eu/registration-dossier/-/...</td>\n",
       "      <td>Test guideline, Guideline: OECD Guideline 474 ...</td>\n",
       "    </tr>\n",
       "  </tbody>\n",
       "</table>\n",
       "</div>"
      ],
      "text/plain": [
       "                                      Substance Name   Name Type  \\\n",
       "0   (1,3-benzothiazol-2-ylsulfanyl)(tert-butyl)amine  IUPAC Name   \n",
       "1        (1-hydroxy-1-phosphonoethyl)phosphonic acid  IUPAC Name   \n",
       "2  (1-hydroxyethylidene)bisphosphonic acid, sodiu...     EC Name   \n",
       "3  (1-methyl-1,2-ethanediyl)bis[oxy(methyl-2,1-et...     EC Name   \n",
       "4  (1-methyl-1,2-ethanediyl)bis[oxy(methyl-2,1-et...     EC Name   \n",
       "\n",
       "  Substance Number Number type Member of Category  \\\n",
       "0          95-31-8  CAS Number                  n   \n",
       "1          64-18-6  CAS Number                  n   \n",
       "2       29329-71-3  CAS Number                  n   \n",
       "3       42978-66-5  CAS Number                  n   \n",
       "4       42978-66-5  CAS Number                  n   \n",
       "\n",
       "                                      Substance Link Participant  \\\n",
       "0  https://echa.europa.eu/registration-dossier/-/...   ECHA CHEM   \n",
       "1  https://echa.europa.eu/registration-dossier/-/...   ECHA CHEM   \n",
       "2  https://echa.europa.eu/registration-dossier/-/...   ECHA CHEM   \n",
       "3  https://echa.europa.eu/registration-dossier/-/...   ECHA CHEM   \n",
       "4  https://echa.europa.eu/registration-dossier/-/...   ECHA CHEM   \n",
       "\n",
       "                                    Participant Link  \\\n",
       "0  https://echa.europa.eu/information-on-chemical...   \n",
       "1  https://echa.europa.eu/information-on-chemical...   \n",
       "2  https://echa.europa.eu/information-on-chemical...   \n",
       "3  https://echa.europa.eu/information-on-chemical...   \n",
       "4  https://echa.europa.eu/information-on-chemical...   \n",
       "\n",
       "                    Section  \\\n",
       "0  Genetic toxicity in vivo   \n",
       "1  Genetic toxicity in vivo   \n",
       "2  Genetic toxicity in vivo   \n",
       "3  Genetic toxicity in vivo   \n",
       "4  Genetic toxicity in vivo   \n",
       "\n",
       "                                       Endpoint Link  \\\n",
       "0  https://echa.europa.eu/registration-dossier/-/...   \n",
       "1  https://echa.europa.eu/registration-dossier/-/...   \n",
       "2  https://echa.europa.eu/registration-dossier/-/...   \n",
       "3  https://echa.europa.eu/registration-dossier/-/...   \n",
       "4  https://echa.europa.eu/registration-dossier/-/...   \n",
       "\n",
       "                                              Values  \n",
       "0  Test guideline, Guideline: OECD Guideline 474 ...  \n",
       "1  Test guideline, Guideline: OECD Guideline 474 ...  \n",
       "2  Test guideline, Guideline: OECD Guideline 474 ...  \n",
       "3  Test guideline, Guideline: OECD Guideline 474 ...  \n",
       "4  Test guideline, Guideline: OECD Guideline 474 ...  "
      ]
     },
     "execution_count": 4,
     "metadata": {},
     "output_type": "execute_result"
    }
   ],
   "source": [
    "data.head()"
   ]
  },
  {
   "cell_type": "code",
   "execution_count": 42,
   "metadata": {},
   "outputs": [],
   "source": [
    "a = np.stack((data['Substance Link'].values, data['Endpoint Link'].values), axis = 1)"
   ]
  },
  {
   "cell_type": "code",
   "execution_count": 43,
   "metadata": {},
   "outputs": [
    {
     "data": {
      "text/plain": [
       "5037"
      ]
     },
     "execution_count": 43,
     "metadata": {},
     "output_type": "execute_result"
    }
   ],
   "source": [
    "len(a)"
   ]
  },
  {
   "cell_type": "code",
   "execution_count": 44,
   "metadata": {},
   "outputs": [
    {
     "data": {
      "text/plain": [
       "array(['https://echa.europa.eu/registration-dossier/-/registered-dossier/14892//?documentUUID=bc6d7469-64e7-4701-b9ff-fc5ac7a2557b',\n",
       "       'https://echa.europa.eu/registration-dossier/-/registered-dossier/14892/7/7/3/?documentUUID=4de27c6c-9d2a-4411-97d5-7832af84104e'],\n",
       "      dtype=object)"
      ]
     },
     "execution_count": 44,
     "metadata": {},
     "output_type": "execute_result"
    }
   ],
   "source": [
    "a[0]"
   ]
  },
  {
   "cell_type": "code",
   "execution_count": null,
   "metadata": {},
   "outputs": [],
   "source": []
  }
 ],
 "metadata": {
  "kernelspec": {
   "display_name": "Python 3",
   "language": "python",
   "name": "python3"
  },
  "language_info": {
   "codemirror_mode": {
    "name": "ipython",
    "version": 3
   },
   "file_extension": ".py",
   "mimetype": "text/x-python",
   "name": "python",
   "nbconvert_exporter": "python",
   "pygments_lexer": "ipython3",
   "version": "3.6.8"
  }
 },
 "nbformat": 4,
 "nbformat_minor": 2
}
